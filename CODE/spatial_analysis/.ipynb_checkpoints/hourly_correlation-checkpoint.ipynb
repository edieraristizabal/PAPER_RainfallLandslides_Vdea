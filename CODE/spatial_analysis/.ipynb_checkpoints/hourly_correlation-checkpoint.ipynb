{
 "cells": [
  {
   "cell_type": "code",
   "execution_count": null,
   "id": "7620d153-c205-44bc-a4d6-2a3bbfe4c840",
   "metadata": {},
   "outputs": [],
   "source": [
    "import pandas as pd\n",
    "import numpy as np\n",
    "import matplotlib.pyplot as plt"
   ]
  },
  {
   "cell_type": "code",
   "execution_count": null,
   "id": "5f5d2e45-300a-483b-8843-479fc0638419",
   "metadata": {},
   "outputs": [],
   "source": [
    "# Load the dataset and convert 'Fecha' to datetime\n",
    "data = pd.read_csv('../DATA/rainfall/EPM_hourly/EPM_hourly.csv')\n",
    "data['Fecha'] = pd.to_datetime(data['Fecha'])\n",
    "data.set_index('Fecha', inplace=True)"
   ]
  },
  {
   "cell_type": "code",
   "execution_count": null,
   "id": "bb7dc531-3047-4dc7-9f74-7ea869e68327",
   "metadata": {},
   "outputs": [],
   "source": [
    "# Calculate average correlations for each hour\n",
    "average_correlations_by_hour = []\n",
    "std_devs_by_hour = []\n",
    "\n",
    "# Loop through each hour of the day (0-23)\n",
    "for hour in range(24):\n",
    "    # Filter data for the specific hour\n",
    "    hourly_data = data[data.index.hour == hour]\n",
    "    \n",
    "    # Drop columns where all values are NaN\n",
    "    hourly_data_clean = hourly_data.dropna(axis=1, how='all')\n",
    "    \n",
    "    if hourly_data_clean.shape[1] > 1:  # Need at least two columns to compute correlation\n",
    "        # Calculate Spearman correlation matrix\n",
    "        correlation_matrix = hourly_data_clean.corr(method='spearman')\n",
    "        \n",
    "        # Extract the upper triangle of the correlation matrix without the diagonal\n",
    "        upper_triangle = correlation_matrix.where(np.triu(np.ones(correlation_matrix.shape), k=1).astype(bool))\n",
    "        \n",
    "        # Calculate the mean and standard deviation of the non-NaN correlations in the upper triangle\n",
    "        mean_correlation = upper_triangle.stack().mean()\n",
    "        std_dev_correlation = upper_triangle.stack().std()\n",
    "        \n",
    "        # Append the results for this hour\n",
    "        average_correlations_by_hour.append(mean_correlation)\n",
    "        std_devs_by_hour.append(std_dev_correlation)\n",
    "    else:\n",
    "        average_correlations_by_hour.append(np.nan)\n",
    "        std_devs_by_hour.append(np.nan)\n"
   ]
  },
  {
   "cell_type": "code",
   "execution_count": null,
   "id": "e9860df2-b88e-4048-95e0-52074d0a145e",
   "metadata": {},
   "outputs": [],
   "source": [
    "# Rearrange the data to start from 7 AM and end at 6 AM\n",
    "shifted_correlations = average_correlations_by_hour[7:] + average_correlations_by_hour[:7]\n",
    "shifted_std_devs = std_devs_by_hour[7:] + std_devs_by_hour[:7]\n",
    "\n",
    "# Create corresponding x-axis labels to reflect the sequence from 7 AM to 6 AM\n",
    "shifted_hours_labels = list(range(7, 24)) + list(range(0, 7))\n",
    "\n",
    "# Plot the data with error bars representing the standard deviation\n",
    "fig, ax = plt.subplots(figsize=(10, 6))\n",
    "ax.errorbar(range(24), shifted_correlations, yerr=shifted_std_devs, fmt='o', linestyle='-', markersize=6, capsize=5, color='black', ecolor='gray')\n",
    "\n",
    "# Set labels\n",
    "ax.set_xlabel('Hour of Day')\n",
    "ax.set_ylabel('Average Spearman Correlation')\n",
    "\n",
    "# Adjust x-axis labels on the bottom\n",
    "ax.set_xticks(range(24))\n",
    "ax.set_xticklabels(shifted_hours_labels)\n",
    "\n",
    "# Set y-axis limits from 0 to 1\n",
    "ax.set_ylim(0, 1)\n",
    "\n",
    "# Add lines on the top and right sides to close the figure (without labels or ticks)\n",
    "ax.spines['top'].set_visible(True)\n",
    "ax.spines['right'].set_visible(True)\n",
    "ax.spines['top'].set_color('black')\n",
    "ax.spines['right'].set_color('black')\n",
    "\n",
    "# Hide ticks and labels on top and right axes\n",
    "ax.tick_params(top=False, right=False)\n",
    "\n",
    "# Add gridlines\n",
    "ax.grid(True)\n",
    "\n",
    "# Save the figure as PNG\n",
    "plt.savefig('../FIGURES/spatial_analysis/spearman_correlation_by_hour.png', format='png', bbox_inches='tight')\n",
    "\n",
    "# Show the plot\n",
    "plt.show()"
   ]
  }
 ],
 "metadata": {
  "kernelspec": {
   "display_name": "ml",
   "language": "python",
   "name": "ml"
  },
  "language_info": {
   "codemirror_mode": {
    "name": "ipython",
    "version": 3
   },
   "file_extension": ".py",
   "mimetype": "text/x-python",
   "name": "python",
   "nbconvert_exporter": "python",
   "pygments_lexer": "ipython3",
   "version": "3.11.4"
  }
 },
 "nbformat": 4,
 "nbformat_minor": 5
}
